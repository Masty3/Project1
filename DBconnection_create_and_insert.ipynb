{
  "nbformat": 4,
  "nbformat_minor": 0,
  "metadata": {
    "colab": {
      "provenance": [],
      "authorship_tag": "ABX9TyPS6eqYm0qA5zxjSxBF3q1s",
      "include_colab_link": true
    },
    "kernelspec": {
      "name": "python3",
      "display_name": "Python 3"
    },
    "language_info": {
      "name": "python"
    }
  },
  "cells": [
    {
      "cell_type": "markdown",
      "metadata": {
        "id": "view-in-github",
        "colab_type": "text"
      },
      "source": [
        "<a href=\"https://colab.research.google.com/github/Masty3/Project1/blob/main/DBconnection_create_and_insert.ipynb\" target=\"_parent\"><img src=\"https://colab.research.google.com/assets/colab-badge.svg\" alt=\"Open In Colab\"/></a>"
      ]
    },
    {
      "cell_type": "code",
      "source": [
        "#install if needed\n",
        "!pip install lorem\n",
        "!pip install sqlite3\n",
        "!pip install tkinter"
      ],
      "metadata": {
        "id": "_ZEED-WN2POT"
      },
      "execution_count": null,
      "outputs": []
    },
    {
      "cell_type": "code",
      "execution_count": 21,
      "metadata": {
        "id": "ug4KoIILxqYN"
      },
      "outputs": [],
      "source": [
        "import sqlite3"
      ]
    },
    {
      "cell_type": "code",
      "source": [
        "#import lorem bib only for testing\n",
        "import lorem"
      ],
      "metadata": {
        "id": "wvESeuC-0kZU"
      },
      "execution_count": 22,
      "outputs": []
    },
    {
      "cell_type": "code",
      "source": [
        "#connect sqlitedb and create Database\n",
        "conn = sqlite3.connect(\"testdb3.db\")\n",
        "mycursor = conn.cursor()\n",
        "\n",
        "mycursor.execute(''' \n",
        "            CREATE TABLE IF NOT EXISTS pdf_text \n",
        "            (word_id INTEGER PRIMARY KEY AUTOINCREMENT, \n",
        "            filename VARCHAR(255), \n",
        "            text TEXT,\n",
        "            count INT)    \n",
        "            ''')"
      ],
      "metadata": {
        "colab": {
          "base_uri": "https://localhost:8080/"
        },
        "id": "EoUkjooQxwwz",
        "outputId": "d8c9189e-ce4e-4d6a-947c-d78b5221a03c"
      },
      "execution_count": 37,
      "outputs": [
        {
          "output_type": "execute_result",
          "data": {
            "text/plain": [
              "<sqlite3.Cursor at 0x7f47d8fc42d0>"
            ]
          },
          "metadata": {},
          "execution_count": 37
        }
      ]
    },
    {
      "cell_type": "code",
      "source": [
        "#create dummy date for testing\n",
        "for i in range(10):\n",
        "    filename = f\"file_{i}.txt\"\n",
        "    text = lorem.paragraph()\n",
        "    count = i\n",
        "    mycursor.execute(\"INSERT INTO pdf_text (filename, text, count) VALUES (?, ?, ?)\", (filename, text, count))"
      ],
      "metadata": {
        "id": "iAlEtEJ30Yjr"
      },
      "execution_count": 33,
      "outputs": []
    },
    {
      "cell_type": "code",
      "source": [
        "#show in terminal\n",
        "mycursor.execute(\"SELECT filename, text, count FROM pdf_text\")\n",
        "rows = mycursor.fetchall()\n",
        "for row in rows:\n",
        "    print(row)"
      ],
      "metadata": {
        "id": "Hp7oW7c63EWS"
      },
      "execution_count": null,
      "outputs": []
    },
    {
      "cell_type": "code",
      "source": [
        "#show SELECT in Popup\n",
        "#not working in collab!\n",
        "\n",
        "text = \"\"\n",
        "for row in rows:\n",
        "    text += f\"{row[0]}\\n{row[1]}\\n{row[2]}\\n\\n\"\n",
        "\n",
        "import tkinter as tk\n",
        "\n",
        "# Popupfenster erstellen und Textfeld hinzufügen\n",
        "root = tk.Tk()\n",
        "root.title(\"Ergebnis\")\n",
        "root.geometry(\"400x400\")\n",
        "\n",
        "scrollbar = tk.Scrollbar(root)\n",
        "scrollbar.pack(side=tk.RIGHT, fill=tk.Y)\n",
        "\n",
        "text_box = tk.Text(root, wrap=tk.WORD, yscrollcommand=scrollbar.set)\n",
        "text_box.pack(expand=True, fill=tk.BOTH)\n",
        "text_box.insert(tk.END, text)\n",
        "\n",
        "scrollbar.config(command=text_box.yview)\n",
        "\n",
        "root.mainloop()"
      ],
      "metadata": {
        "id": "esX_ZpMP3dBj"
      },
      "execution_count": null,
      "outputs": []
    },
    {
      "cell_type": "code",
      "source": [
        "# SELECT-Abfrage ausführen und Ergebnisse nach count absteigend sortieren\n",
        "#Anzeige in PopUp\n",
        "mycursor.execute(\"SELECT filename, text, count FROM pdf_text ORDER BY count DESC\")\n",
        "rows = mycursor.fetchall()\n",
        "\n",
        "# Ein neues Popup-Fenster erstellen\n",
        "popup = tk.Tk()\n",
        "popup.title(\"Datenbankabfrage\")\n",
        "\n",
        "# Eine Scrollbar hinzufügen\n",
        "scrollbar = tk.Scrollbar(popup)\n",
        "scrollbar.pack(side=tk.RIGHT, fill=tk.Y)\n",
        "\n",
        "# Ein neues Text-Widget im Popup-Fenster erstellen\n",
        "text_widget = tk.Text(popup, yscrollcommand=scrollbar.set)\n",
        "text_widget.pack(side=tk.LEFT, fill=tk.BOTH)\n",
        "\n",
        "# Datensätze als formatierten Text hinzufügen\n",
        "for row in rows:\n",
        "    text_widget.insert(tk.END, \"Filename: {}\\n\".format(row[0]))\n",
        "    text_widget.insert(tk.END, \"Text: {}\\n\".format(row[1]))\n",
        "    text_widget.insert(tk.END, \"Count: {}\\n\\n\".format(row[2]))\n",
        "\n",
        "# Scrollbar mit dem Text-Widget verknüpfen\n",
        "scrollbar.config(command=text_widget.yview)\n",
        "\n",
        "# Popup-Fenster öffnen und auf Ereignisse warten\n",
        "popup.mainloop()\n"
      ],
      "metadata": {
        "id": "8EBGGjKP_4Ov"
      },
      "execution_count": null,
      "outputs": []
    },
    {
      "cell_type": "code",
      "source": [
        "# SELECT-Abfrage ausführen und Ergebnisse nach count absteigend sortieren\n",
        "#Anzeige in terminal\n",
        "mycursor.execute(\"SELECT filename, text, count FROM pdf_text ORDER BY count DESC\")\n",
        "rows = mycursor.fetchall()\n",
        "\n",
        "# Ergebnisse in der Konsole ausgeben\n",
        "for row in rows:\n",
        "    print(\"Filename: {}\\n\".format(row[0]))\n",
        "    print(\"Text: {}\\n\".format(row[1]))\n",
        "    print(\"Count: {}\\n\\n\".format(row[2]))"
      ],
      "metadata": {
        "id": "LBsUB6UhASPv"
      },
      "execution_count": null,
      "outputs": []
    },
    {
      "cell_type": "code",
      "source": [
        "#save and close connection\n",
        "conn.commit()\n",
        "conn.close()"
      ],
      "metadata": {
        "id": "2ZdY1k35x7M5"
      },
      "execution_count": 36,
      "outputs": []
    }
  ]
}