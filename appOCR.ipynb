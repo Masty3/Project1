{
  "nbformat": 4,
  "nbformat_minor": 0,
  "metadata": {
    "colab": {
      "provenance": [],
      "authorship_tag": "ABX9TyPJ6K4Simx5aGEM1fDjgh9c",
      "include_colab_link": true
    },
    "kernelspec": {
      "name": "python3",
      "display_name": "Python 3"
    },
    "language_info": {
      "name": "python"
    }
  },
  "cells": [
    {
      "cell_type": "markdown",
      "metadata": {
        "id": "view-in-github",
        "colab_type": "text"
      },
      "source": [
        "<a href=\"https://colab.research.google.com/github/Masty3/Project1/blob/main/appOCR.ipynb\" target=\"_parent\"><img src=\"https://colab.research.google.com/assets/colab-badge.svg\" alt=\"Open In Colab\"/></a>"
      ]
    },
    {
      "cell_type": "code",
      "execution_count": null,
      "metadata": {
        "id": "R02qnpHDeGVy"
      },
      "outputs": [],
      "source": [
        "import tkinter as tk\n",
        "from tkinter import filedialog\n",
        "from appMain import process_file\n",
        "\n",
        "\n",
        "class OCRApp(tk.Frame):\n",
        "    def __init__(self, master=None):\n",
        "        super().__init__(master)\n",
        "        self.master = master\n",
        "        self.pack()\n",
        "        self.create_widgets()\n",
        "\n",
        "    def create_widgets(self):\n",
        "        self.upload_button = tk.Button(self, text=\"Upload File\", command=self.upload_file)\n",
        "        self.upload_button.pack()\n",
        "\n",
        "        self.result_label = tk.Label(self, text=\"\")\n",
        "        self.result_label.pack()\n",
        "\n",
        "    def upload_file(self):\n",
        "        file_path = filedialog.askopenfilename(filetypes=[(\"PDF Files\", \"*.pdf\")])\n",
        "        if file_path:\n",
        "            try:\n",
        "                df = process_file(file_path)\n",
        "\n",
        "                # Save the DataFrame to an Excel file\n",
        "                output_file = 'ExtractionOcr.xlsx'\n",
        "                df.to_excel(output_file, index=False)\n",
        "\n",
        "                self.result_label.config(\n",
        "                    text=f\"OCR text extraction successful. Results saved to {output_file}.\"\n",
        "                )\n",
        "            except Exception as e:\n",
        "                self.result_label.config(text=f\"Error processing the file: {e}\")\n",
        "\n",
        "\n",
        "def main():\n",
        "    root = tk.Tk()\n",
        "    root.title(\"OCR Text Extraction\")\n",
        "    app = OCRApp(master=root)\n",
        "    app.mainloop()\n",
        "\n",
        "\n",
        "if __name__ == \"__main__\":\n",
        "    main()\n"
      ]
    }
  ]
}