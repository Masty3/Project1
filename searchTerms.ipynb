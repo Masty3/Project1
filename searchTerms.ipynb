{
  "nbformat": 4,
  "nbformat_minor": 0,
  "metadata": {
    "colab": {
      "provenance": [],
      "authorship_tag": "ABX9TyNX3spq9/7wILUxC9J12hzy",
      "include_colab_link": true
    },
    "kernelspec": {
      "name": "python3",
      "display_name": "Python 3"
    },
    "language_info": {
      "name": "python"
    }
  },
  "cells": [
    {
      "cell_type": "markdown",
      "metadata": {
        "id": "view-in-github",
        "colab_type": "text"
      },
      "source": [
        "<a href=\"https://colab.research.google.com/github/Masty3/Project1/blob/main/searchTerms.ipynb\" target=\"_parent\"><img src=\"https://colab.research.google.com/assets/colab-badge.svg\" alt=\"Open In Colab\"/></a>"
      ]
    },
    {
      "cell_type": "code",
      "execution_count": null,
      "metadata": {
        "id": "8SmtxaMS981T"
      },
      "outputs": [],
      "source": [
        "#terms that are used to search for in the database of extracted texts\n",
        "class SearchTerms:\n",
        "    @staticmethod\n",
        "    def get_search_terms():\n",
        "        return [\n",
        "            'Eingeschränkte Beweglichkeit',\n",
        "            'Drehen',\n",
        "            'Rückenschmerzen',\n",
        "            'Erschöpfung',\n",
        "            'Schweißattacken',\n",
        "            'Schlaflosigkeit'\n",
        "        ]"
      ]
    }
  ]
}