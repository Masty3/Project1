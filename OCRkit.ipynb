{
  "nbformat": 4,
  "nbformat_minor": 0,
  "metadata": {
    "colab": {
      "provenance": [],
      "authorship_tag": "ABX9TyNqJzE8And+QiGZZpJL7R70",
      "include_colab_link": true
    },
    "kernelspec": {
      "name": "python3",
      "display_name": "Python 3"
    },
    "language_info": {
      "name": "python"
    }
  },
  "cells": [
    {
      "cell_type": "markdown",
      "metadata": {
        "id": "view-in-github",
        "colab_type": "text"
      },
      "source": [
        "<a href=\"https://colab.research.google.com/github/Masty3/Project1/blob/main/OCRkit.ipynb\" target=\"_parent\"><img src=\"https://colab.research.google.com/assets/colab-badge.svg\" alt=\"Open In Colab\"/></a>"
      ]
    },
    {
      "cell_type": "code",
      "source": [
        "!pip install pytesseract\n",
        "!pip install mysql.connector\n",
        "#PyMuPDF is imported by using import fitz\n",
        "!pip install PyMuPDF\n",
        "!pip install opencv-python"
      ],
      "metadata": {
        "colab": {
          "base_uri": "https://localhost:8080/"
        },
        "id": "Avy5e7UbqoGG",
        "outputId": "ed1461a2-4112-40e9-cf67-a48b3dafbe0b"
      },
      "execution_count": null,
      "outputs": [
        {
          "output_type": "stream",
          "name": "stdout",
          "text": [
            "Looking in indexes: https://pypi.org/simple, https://us-python.pkg.dev/colab-wheels/public/simple/\n",
            "Requirement already satisfied: pytesseract in /usr/local/lib/python3.9/dist-packages (0.3.10)\n",
            "Requirement already satisfied: packaging>=21.3 in /usr/local/lib/python3.9/dist-packages (from pytesseract) (23.0)\n",
            "Requirement already satisfied: Pillow>=8.0.0 in /usr/local/lib/python3.9/dist-packages (from pytesseract) (8.4.0)\n",
            "Looking in indexes: https://pypi.org/simple, https://us-python.pkg.dev/colab-wheels/public/simple/\n",
            "Requirement already satisfied: mysql.connector in /usr/local/lib/python3.9/dist-packages (2.2.9)\n",
            "Looking in indexes: https://pypi.org/simple, https://us-python.pkg.dev/colab-wheels/public/simple/\n",
            "Collecting PyMuPDF\n",
            "  Downloading PyMuPDF-1.21.1-cp39-cp39-manylinux_2_17_x86_64.manylinux2014_x86_64.whl (14.0 MB)\n",
            "\u001b[2K     \u001b[90m━━━━━━━━━━━━━━━━━━━━━━━━━━━━━━━━━━━━━━━━\u001b[0m \u001b[32m14.0/14.0 MB\u001b[0m \u001b[31m61.7 MB/s\u001b[0m eta \u001b[36m0:00:00\u001b[0m\n",
            "\u001b[?25hInstalling collected packages: PyMuPDF\n",
            "Successfully installed PyMuPDF-1.21.1\n",
            "Looking in indexes: https://pypi.org/simple, https://us-python.pkg.dev/colab-wheels/public/simple/\n",
            "Requirement already satisfied: opencv-python in /usr/local/lib/python3.9/dist-packages (4.7.0.72)\n",
            "Requirement already satisfied: numpy>=1.17.0 in /usr/local/lib/python3.9/dist-packages (from opencv-python) (1.22.4)\n"
          ]
        }
      ]
    },
    {
      "cell_type": "code",
      "source": [
        "import mysql.connector\n",
        "import os\n",
        "import fitz\n",
        "import pytesseract\n",
        "import cv2\n",
        "import numpy as np"
      ],
      "metadata": {
        "id": "XcQsegrmYC6a"
      },
      "execution_count": null,
      "outputs": []
    },
    {
      "cell_type": "code",
      "source": [
        "#find a way to get the exe\n",
        "#works only by installing Tesseract-OCR locally\n",
        "pytesseract.pytesseract.tesseract_cmd = r\"C:\\Program Files\\Tesseract-OCR\\tesseract.exe\""
      ],
      "metadata": {
        "id": "9xhO4ZlbZlXn"
      },
      "execution_count": null,
      "outputs": []
    },
    {
      "cell_type": "code",
      "source": [
        "#connect to database by using the connector\n",
        "mydb = mysql.connector.connect(\n",
        "    host=\"localhost\",\n",
        "    user=\"rsx\",\n",
        "    password=\"Jimi70..\",\n",
        "    database=\"MYSQL\"\n",
        ")"
      ],
      "metadata": {
        "id": "7F-Gbl_Yb0zi"
      },
      "execution_count": null,
      "outputs": []
    },
    {
      "cell_type": "code",
      "source": [
        "#create a cursor object to execute the import of a new pdf file and store it into the database\n",
        "#is an object provided by MySQL connector library, allows the communication with database\n",
        "mycursor = mydb.cursor()"
      ],
      "metadata": {
        "id": "MZe5Q_6pcE5_"
      },
      "execution_count": null,
      "outputs": []
    },
    {
      "cell_type": "code",
      "source": [
        "#create a table if it not exists yet with the name pdf_text\n",
        "mycursor.execute(\"CREATE TABLE IF NOT EXISTS pdf_text (id INT AUTO_INCREMENT PRIMARY KEY, filename VARCHAR(255), text LONGTEXT)\")"
      ],
      "metadata": {
        "id": "bSUaM5oecMtT"
      },
      "execution_count": null,
      "outputs": []
    },
    {
      "cell_type": "code",
      "source": [
        "#develop a function that extract text from pdf using ocr\n",
        "#we will initialize an empty string used to store the extracted text from pdf by using text = \"\"\n",
        "#then we iterate through each page of the pdf files by page_count\n",
        "#pix is used to create a pixmap to improve ocr quality\n",
        "#then we reshape the image to an NumPy array image\n",
        "#gauss kernel is applied to reduce noise and smoothen the image\n",
        "def extract_text_from_pdf(filename):\n",
        "    with fitz.open(filename) as doc:\n",
        "        text = \"\"\n",
        "        for page_number in range(doc.page_count):\n",
        "            page = doc.load_page(page_number)\n",
        "            pix = page.get_pixmap(matrix=fitz.Matrix(2, 2), alpha=False)\n",
        "            img = np.frombuffer(pix.samples, dtype=np.uint8).reshape(pix.height, pix.width, 3)\n",
        "\n",
        "            # Preprocessing\n",
        "            gray_img = cv2.cvtColor(img, cv2.COLOR_BGR2GRAY)\n",
        "            blurred_img = cv2.GaussianBlur(gray_img, (5, 5), 0)\n",
        "            _, thresh_img = cv2.threshold(blurred_img, 0, 255, cv2.THRESH_BINARY_INV + cv2.THRESH_OTSU)\n",
        "\n",
        "            #this function returns the concatenated text\n",
        "            text += pytesseract.image_to_string(thresh_img)\n",
        "\n",
        "        return text"
      ],
      "metadata": {
        "id": "Q3EXFUYHcPwt"
      },
      "execution_count": null,
      "outputs": []
    },
    {
      "cell_type": "code",
      "source": [
        "#function to insert the text from the pdf file into the database\n",
        "#we are creating a query to insert value filename and text into the pdf_text table\n",
        "def insert_into_db(filename, text):\n",
        "    sql = \"INSERT INTO pdf_text (filename, text) VALUES (%s, %s)\"\n",
        "    val = (filename, text)\n",
        "    mycursor.execute(sql, val)\n",
        "    mydb.commit()"
      ],
      "metadata": {
        "id": "r4xfxHVydroW"
      },
      "execution_count": null,
      "outputs": []
    },
    {
      "cell_type": "code",
      "source": [
        "import collections #needed to store words in a dictionary"
      ],
      "metadata": {
        "id": "hPa1aMzJgFvu"
      },
      "execution_count": null,
      "outputs": []
    },
    {
      "cell_type": "code",
      "source": [
        "def count_words(text):\n",
        "    words = text.lower().split()\n",
        "    return collections.Counter(words)\n",
        "\n",
        "# Initialize an empty dictionary to store word counts\n",
        "word_counts = collections.Counter()"
      ],
      "metadata": {
        "id": "pl-t8wDhgPA6"
      },
      "execution_count": null,
      "outputs": []
    },
    {
      "cell_type": "code",
      "source": [
        "#now we got to ensure that all pdf files within one directory will be processed\n",
        "folder_path = 'C:\\\\Users\\\\rekic\\\\OneDrive\\\\Dokumente\\\\FHWN\\\\2. Sem\\\\HC Project 1\\\\pdffiles'"
      ],
      "metadata": {
        "id": "AY-5-mi8ePMt"
      },
      "execution_count": null,
      "outputs": []
    },
    {
      "cell_type": "code",
      "source": [
        "for filename in os.listdir(folder_path):\n",
        "    try:\n",
        "        file_path = os.path.join(folder_path, filename) #used to construct the full path to an file\n",
        "\n",
        "        if filename.endswith('.pdf'):\n",
        "            extracted_text = extract_text_from_pdf(file_path)\n",
        "        elif filename.endswith('.jpg'):\n",
        "            extracted_text = extract_text_from_image(file_path)\n",
        "        else:\n",
        "            continue\n",
        "        \n",
        "        word_counts.update(count_words(extracted_text))\n",
        "\n",
        "        print(f\"Extracted text from {filename}:\\n\")\n",
        "        print(extracted_text)\n",
        "        print(\"\\n\" + \"-\" * 80 + \"\\n\")  # Print a separator line between files\n",
        "        insert_into_db(filename, extracted_text)\n",
        "    except Exception as e:\n",
        "        print(f\"Error processing {filename}: {e}\")\n",
        "    \n",
        "for word, count in word_counts.items():\n",
        "      print(f\"{word}: {count}\")"
      ],
      "metadata": {
        "id": "60ftvNbOeZ_o"
      },
      "execution_count": null,
      "outputs": []
    },
    {
      "cell_type": "code",
      "source": [
        "#close the database connection\n",
        "mydb.close()"
      ],
      "metadata": {
        "id": "OrKE79ALfDto"
      },
      "execution_count": null,
      "outputs": []
    }
  ]
}