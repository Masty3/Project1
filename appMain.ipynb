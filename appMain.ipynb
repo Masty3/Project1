{
  "nbformat": 4,
  "nbformat_minor": 0,
  "metadata": {
    "colab": {
      "provenance": [],
      "authorship_tag": "ABX9TyMKSdUtDlBEcE9DcmchwqwU",
      "include_colab_link": true
    },
    "kernelspec": {
      "name": "python3",
      "display_name": "Python 3"
    },
    "language_info": {
      "name": "python"
    }
  },
  "cells": [
    {
      "cell_type": "markdown",
      "metadata": {
        "id": "view-in-github",
        "colab_type": "text"
      },
      "source": [
        "<a href=\"https://colab.research.google.com/github/Masty3/Project1/blob/main/appMain.ipynb\" target=\"_parent\"><img src=\"https://colab.research.google.com/assets/colab-badge.svg\" alt=\"Open In Colab\"/></a>"
      ]
    },
    {
      "cell_type": "code",
      "execution_count": null,
      "metadata": {
        "id": "6pup-iTmdMVy"
      },
      "outputs": [],
      "source": [
        "#this code is the fundament to the app.py which starts\n",
        "#the application with the main()\n",
        "\n",
        "import configparser\n",
        "import os\n",
        "import tempfile\n",
        "import collections\n",
        "import pandas as pd\n",
        "import pytesseract\n",
        "from pdf2image import convert_from_path\n",
        "\n",
        "config = configparser.ConfigParser()\n",
        "config.read(\"config/config.ini\")\n",
        "\n",
        "pytesseract.pytesseract.tesseract_cmd = config.get(\"DEFAULT\", \"tesseract_path\")\n",
        "\n",
        "\n",
        "def extract_text_from_pdf(file_path):\n",
        "    with tempfile.TemporaryDirectory() as temp_dir:\n",
        "        # Convert PDF to a list of images\n",
        "        images = convert_from_path(file_path, output_folder=temp_dir)\n",
        "\n",
        "        extracted_text = \"\"\n",
        "        for img in images:\n",
        "            # Extract text from image\n",
        "            text = pytesseract.image_to_string(img, lang='deu')\n",
        "            extracted_text += text + \"\\n\"\n",
        "\n",
        "    return extracted_text\n",
        "\n",
        "\n",
        "def count_words(text):\n",
        "    words = text.lower().split()\n",
        "    return collections.Counter(words)\n",
        "\n",
        "\n",
        "def process_file(file_path):\n",
        "    if file_path.endswith('.pdf'):\n",
        "        extracted_text = extract_text_from_pdf(file_path)\n",
        "    else:\n",
        "        raise Exception(\"Unsupported file format\")\n",
        "\n",
        "    word_counts = count_words(extracted_text)\n",
        "\n",
        "    # Save word counts to a DataFrame and return it\n",
        "    df = pd.DataFrame(word_counts.items(), columns=[\"Word\", \"Count\"])\n",
        "    return df\n",
        "\n",
        "    # Print the results (modify as needed)\n",
        "    print(f\"Extracted text from {os.path.basename(file_path)}:\\n\")\n",
        "    print(extracted_text)\n",
        "\n",
        "\n",
        "if __name__ == \"__main__\":\n",
        "    # Example usage (optional, for testing)\n",
        "    process_file(\"path/to/your/test.pdf\")\n"
      ]
    }
  ]
}